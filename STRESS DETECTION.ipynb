{
  "nbformat": 4,
  "nbformat_minor": 0,
  "metadata": {
    "colab": {
      "name": "Untitled11.ipynb",
      "provenance": []
    },
    "kernelspec": {
      "name": "python3",
      "display_name": "Python 3"
    },
    "language_info": {
      "name": "python"
    }
  },
  "cells": [
    {
      "cell_type": "code",
      "execution_count": 3,
      "metadata": {
        "colab": {
          "base_uri": "https://localhost:8080/"
        },
        "id": "27HGgi5D9wRN",
        "outputId": "52a8ad8b-eee8-4618-b336-139cc48281cf"
      },
      "outputs": [
        {
          "output_type": "stream",
          "name": "stdout",
          "text": [
            "Enter a Text: I AM FEELING GOOD\n",
            "No Stress\n",
            "Have a good day,THANK YOU\n"
          ]
        }
      ],
      "source": [
        "#Stress Detection and stress level by decision tree\n",
        "import pandas as pd\n",
        "import numpy as np\n",
        "from sklearn.feature_extraction.text import CountVectorizer\n",
        "from sklearn.metrics import accuracy_score\n",
        "\n",
        "data = pd.read_csv(\"stresss.csv\")\n",
        "\n",
        "x=np.array(data[\"test\"])\n",
        "y = data.label\n",
        "cv=CountVectorizer()\n",
        "X = cv.fit_transform(x)\n",
        "\n",
        "from sklearn.model_selection import train_test_split\n",
        "\n",
        "\n",
        "X_train, X_test, y_train, y_test = train_test_split(X,y, random_state = 42, test_size = 0.33)\n",
        "\n",
        "\n",
        "from sklearn.tree import DecisionTreeClassifier\n",
        "clf = DecisionTreeClassifier()\n",
        "clf.fit(X_train,y_train)\n",
        "user = input(\"Enter a Text: \")\n",
        "data = cv.transform([user]).toarray()\n",
        "output = clf.predict(data)\n",
        "if(output==0):\n",
        "  print(\"No Stress\")\n",
        "else:\n",
        "  print(\"Stress\")\n",
        "  #STRESS LEVEL\n",
        "if(output==0):\n",
        "  print(\"Have a good day,THANK YOU\")\n",
        "else:\n",
        "  print(\"since you have stress,Can we find out your stress level ?\")\n",
        "  print(\"enter 1 for yes and 0 for no\")\n",
        "  y=int(input(\"Enter please : \"))\n",
        "  if(y==0):\n",
        "    print(\"Have a good day,THANK YOU\")\n",
        "  else:\n",
        "    ct=0\n",
        "    print(\"Thanks for your decision ,Answer few queries by selecting options\")\n",
        "    a=int(input(\"Are you feeling lonely?\\n (1)sometimes (2)frequently (3)Not at all (4)rarely \"))\n",
        "    if(a==1):ct=ct+70 \n",
        "    elif(a==2):ct=ct+90\n",
        "    elif(a==3):ct=ct+10\n",
        "    else:ct=ct+40\n",
        "    b=int(input(\"Do you feel disturbed?\\n (1)sometimes (2)frequently (3)Not at all (4)rarely \"))\n",
        "    if(b==1):ct=ct+70 \n",
        "    elif(b==2):ct=ct+90\n",
        "    elif(b==3):ct=ct+10\n",
        "    else:ct=ct+40\n",
        "    c=int(input(\"Are you not sleeping well?\\n (1)sometimes (2)frequently (3)Not at all (4)rarely \"))\n",
        "    if(c==1):ct=ct+70 \n",
        "    elif(c==2):ct=ct+90\n",
        "    elif(c==3):ct=ct+10\n",
        "    else:ct=ct+40\n",
        "    d=int(input(\"do you feel anxious for no reason?\\n (1)sometimes (2)frequently (3)Not at all (4)rarely \"))\n",
        "    if(d==1):ct=ct+70 \n",
        "    elif(d==2):ct=ct+90\n",
        "    elif(d==3):ct=ct+10\n",
        "    else:ct=ct+40\n",
        "    z=ct/4\n",
        "    print(\"your stress level lies between \",z,\"%  to \",z+10,\"%\") "
      ]
    }
  ]
}